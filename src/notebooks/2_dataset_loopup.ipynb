{
 "cells": [
  {
   "cell_type": "code",
   "execution_count": 0,
   "metadata": {
    "application/vnd.databricks.v1+cell": {
     "cellMetadata": {
      "byteLimit": 2048000,
      "implicitDf": true,
      "rowLimit": 10000
     },
     "inputWidgets": {},
     "nuid": "4ebb6589-bc43-43b3-a5ee-fd456702fd71",
     "showTitle": false,
     "tableResultSettingsMap": {},
     "title": ""
    }
   },
   "outputs": [],
   "source": [
    "dbutils.widgets.dropdown(\"environment\", \"dev\", [\"dev\", \"test\", \"prod\"], \"Environment\")\n",
    "environment = dbutils.widgets.get(\"environment\")\n",
    "CATALOG = f\"w_{environment}\"\n",
    "SCHEMA = \"landing_admin\"\n",
    "TABLE_NAME = f\"{CATALOG}.{SCHEMA}.meta_control_table\"\n",
    "\n",
    "\n",
    "# Query the control table for active datasets\n",
    "print(f\"Querying control table: {TABLE_NAME} for active datasets in '{environment}'...\")\n",
    "control_table_df = spark.sql(f\"\"\"\n",
    "    SELECT \n",
    "        source_dataset_id,\n",
    "        source_dataset_name,\n",
    "        last_timestamp,\n",
    "        target_folder,\n",
    "        load_increment_days,\n",
    "        page_size\n",
    "    FROM {TABLE_NAME} \n",
    "    WHERE is_active = true AND environment = '{environment}'\n",
    "\"\"\")\n",
    "\n",
    "# Convert the DataFrame to a list of dictionaries\n",
    "\n",
    "params_list = [row.asDict() for row in control_table_df.collect()]\n",
    "\n",
    "# Handle timestamps: Convert datetime objects to ISO 8601 string format to ensure JSON compatibility\n",
    "for params in params_list:\n",
    "    if 'last_timestamp' in params and params['last_timestamp'] is not None:\n",
    "        params['last_timestamp'] = params['last_timestamp'].isoformat()\n",
    "\n",
    "print(f\"Found {len(params_list)} datasets to process.\")\n",
    "\n",
    "# Set the list as a task value\n",
    "if params_list:\n",
    "    dbutils.jobs.taskValues.set(key=\"datasets_to_process\", value=params_list)\n",
    "    print(\"Successfully set 'datasets_to_process' task value.\")\n",
    "else:\n",
    "    print(\"No active datasets found. Skipping task value set.\")"
   ]
  },
  {
   "cell_type": "code",
   "execution_count": 0,
   "metadata": {
    "application/vnd.databricks.v1+cell": {
     "cellMetadata": {
      "byteLimit": 2048000,
      "rowLimit": 10000
     },
     "inputWidgets": {},
     "nuid": "9496035f-967f-45c0-bf61-e9faa4fed7b5",
     "showTitle": false,
     "tableResultSettingsMap": {},
     "title": ""
    }
   },
   "outputs": [],
   "source": [
    "print(params_list)"
   ]
  },
  {
   "cell_type": "code",
   "execution_count": 0,
   "metadata": {
    "application/vnd.databricks.v1+cell": {
     "cellMetadata": {},
     "inputWidgets": {},
     "nuid": "8767fa59-f9ec-4e98-a3a7-224c9efd0fc6",
     "showTitle": false,
     "tableResultSettingsMap": {},
     "title": ""
    }
   },
   "outputs": [],
   "source": []
  }
 ],
 "metadata": {
  "application/vnd.databricks.v1+notebook": {
   "computePreferences": null,
   "dashboards": [],
   "environmentMetadata": {
    "base_environment": "",
    "environment_version": "3"
   },
   "inputWidgetPreferences": null,
   "language": "python",
   "notebookMetadata": {
    "mostRecentlyExecutedCommandWithImplicitDF": {
     "commandId": 6931893888689402,
     "dataframes": [
      "_sqldf"
     ]
    },
    "pythonIndentUnit": 4
   },
   "notebookName": "2_dataset_loopup",
   "widgets": {
    "environment": {
     "currentValue": "dev",
     "nuid": "6186a7bc-c4d9-4f79-b67d-61201a9f9eae",
     "typedWidgetInfo": {
      "autoCreated": false,
      "defaultValue": "dev",
      "label": "Environment",
      "name": "environment",
      "options": {
       "widgetDisplayType": "Dropdown",
       "choices": [
        "dev",
        "test",
        "prod"
       ],
       "fixedDomain": true,
       "multiselect": false
      },
      "parameterDataType": "String"
     },
     "widgetInfo": {
      "widgetType": "dropdown",
      "defaultValue": "dev",
      "label": "Environment",
      "name": "environment",
      "options": {
       "widgetType": "dropdown",
       "autoCreated": null,
       "choices": [
        "dev",
        "test",
        "prod"
       ]
      }
     }
    }
   }
  },
  "language_info": {
   "name": "python"
  }
 },
 "nbformat": 4,
 "nbformat_minor": 0
}
