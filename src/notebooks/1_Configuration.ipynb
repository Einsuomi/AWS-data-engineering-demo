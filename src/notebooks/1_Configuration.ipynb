{
 "cells": [
  {
   "cell_type": "code",
   "execution_count": 0,
   "metadata": {
    "application/vnd.databricks.v1+cell": {
     "cellMetadata": {
      "byteLimit": 2048000,
      "rowLimit": 10000
     },
     "inputWidgets": {},
     "nuid": "7cb98d37-6253-4cc5-b56c-bb36610cdc16",
     "showTitle": false,
     "tableResultSettingsMap": {},
     "title": ""
    }
   },
   "outputs": [],
   "source": [
    "# Databricks notebook source\n",
    "# COMMAND ----------\n",
    "\n",
    "# 1. Define widgets to accept parameters from the job run.\n",
    "dbutils.widgets.dropdown(\"environment\", \"dev\", [\"dev\", \"test\", \"prod\"], \"Environment\")\n",
    "environment = dbutils.widgets.get(\"environment\")\n",
    "\n",
    "# 2. Read the values from the widgets.\n",
    "CATALOG = f\"w_{environment}\"\n",
    "MANAGED_UC_ROOT = f\"s3a://wartsila-datalake-{environment}-managed-uc/\"\n",
    "BRONZE_ROOT = f\"s3a://wartsila-datalake-{environment}-bronze/\"\n",
    "SILVER_ROOT =f\"s3a://wartsila-datalake-{environment}-silver/\"\n",
    "GOLD_ROOT = f\"s3a://wartsila-datalake-{environment}-gold/\"\n",
    "LANDING_ROOT = f\"s3a://wartsila-datalake-{environment}-landing/fingrid/\"\n",
    "\n",
    "\n",
    "# 3. Build and execute the SQL commands.\n",
    "print(f\"Creating catalog '{CATALOG}' if it does not exist...\")\n",
    "spark.sql(f\"CREATE CATALOG IF NOT EXISTS {CATALOG} MANAGED LOCATION '{MANAGED_UC_ROOT}'\")\n",
    "\n",
    "print(f\"Creating schemas in catalog '{CATALOG}' if they do not exist...\")\n",
    "spark.sql(f\"CREATE SCHEMA IF NOT EXISTS {CATALOG}.bronze MANAGED LOCATION '{BRONZE_ROOT}'\")\n",
    "spark.sql(f\"CREATE SCHEMA IF NOT EXISTS {CATALOG}.silver MANAGED LOCATION '{SILVER_ROOT}'\")\n",
    "spark.sql(f\"CREATE SCHEMA IF NOT EXISTS {CATALOG}.gold MANAGED LOCATION '{GOLD_ROOT}'\")\n",
    "spark.sql(f\"CREATE SCHEMA IF NOT EXISTS {CATALOG}.landing_admin MANAGED LOCATION '{LANDING_ROOT}'\")\n",
    "\n",
    "\n",
    "# 4. CREATE control table creation \n",
    "SCHEMA = \"landing_admin\"\n",
    "TABLE_NAME = f\"{CATALOG}.{SCHEMA}.meta_control_table\"\n",
    "\n",
    "create_table_sql = f\"\"\"\n",
    "CREATE TABLE IF NOT EXISTS {TABLE_NAME} (\n",
    "    id BIGINT GENERATED ALWAYS AS IDENTITY,\n",
    "    source_system STRING NOT NULL,\n",
    "    source_dataset_id INT NOT NULL,\n",
    "    source_dataset_name STRING NOT NULL,\n",
    "    last_timestamp TIMESTAMP,\n",
    "    refresh_timestamp TIMESTAMP,\n",
    "    target_container STRING NOT NULL,\n",
    "    target_folder STRING NOT NULL,\n",
    "    page_size INT DEFAULT 5000,\n",
    "    load_increment_days INT DEFAULT 1,\n",
    "    environment STRING DEFAULT '{environment}',\n",
    "    created_date TIMESTAMP DEFAULT CURRENT_TIMESTAMP(),\n",
    "    is_active BOOLEAN DEFAULT true\n",
    ")\n",
    "USING DELTA\n",
    "TBLPROPERTIES ('delta.feature.allowColumnDefaults' = 'supported')\n",
    "\"\"\"\n",
    "\n",
    "\n",
    "# Check if records for the current environment already exist\n",
    "print(f\"Checking for existing records in environment: '{environment}'...\")\n",
    "record_count = spark.sql(f\"SELECT COUNT(*) as count FROM {TABLE_NAME} WHERE environment = '{environment}'\").collect()[0]['count']\n",
    "\n",
    "\n",
    "# If no records exist for the environment, insert the initial values\n",
    "if record_count == 0:\n",
    "    print(f\"No records found for '{environment}'. Inserting initial values...\")\n",
    "    insert_ini_values = f\"\"\"\n",
    "    INSERT INTO {TABLE_NAME} (\n",
    "        source_system, source_dataset_id, source_dataset_name,\n",
    "        last_timestamp, refresh_timestamp, target_container, \n",
    "        target_folder, page_size, load_increment_days\n",
    "    ) \n",
    "    VALUES \n",
    "    ('Fingrid', 358, 'Electricity consumption', \n",
    "    '2025-01-01T00:00:00', '2025-05-17T11:54:00', \n",
    "    'landing', 'Electricity_consumption', 5000, 1),\n",
    "\n",
    "    ('Fingrid', 248, 'Solar power generation', \n",
    "    '2025-01-01T00:00:00', '2025-05-17T11:50:00', \n",
    "    'landing', 'fingrid_solar_power_generation', 5000, 1),\n",
    "\n",
    "    ('Fingrid', 245, 'Wind power generation', \n",
    "    '2025-01-01T00:00:00', '2025-05-17T11:58:00', \n",
    "    'landing', 'fingrid_wind_power_generation', 5000, 1);\n",
    "    \"\"\"\n",
    "    spark.sql(insert_ini_values)\n",
    "    print(\"Control table created and initial values inserted successfully!\")\n",
    "else:\n",
    "    print(f\"Records for environment '{environment}' already exist. Skipping insertion.\")\n",
    "\n",
    "\n",
    "print(\"Configuration complete.\")"
   ]
  }
 ],
 "metadata": {
  "application/vnd.databricks.v1+notebook": {
   "computePreferences": null,
   "dashboards": [],
   "environmentMetadata": {
    "base_environment": "",
    "environment_version": "3"
   },
   "inputWidgetPreferences": null,
   "language": "python",
   "notebookMetadata": {
    "mostRecentlyExecutedCommandWithImplicitDF": {
     "commandId": 6847239669165729,
     "dataframes": [
      "_sqldf"
     ]
    },
    "pythonIndentUnit": 4
   },
   "notebookName": "1_Configuration",
   "widgets": {
    "environment": {
     "currentValue": "dev",
     "nuid": "e5d7a054-3ba7-4d6b-b8ba-60a80ccda3e7",
     "typedWidgetInfo": {
      "autoCreated": false,
      "defaultValue": "dev",
      "label": "Environment",
      "name": "environment",
      "options": {
       "widgetDisplayType": "Dropdown",
       "choices": [
        "dev",
        "test",
        "prod"
       ],
       "fixedDomain": true,
       "multiselect": false
      },
      "parameterDataType": "String"
     },
     "widgetInfo": {
      "widgetType": "dropdown",
      "defaultValue": "dev",
      "label": "Environment",
      "name": "environment",
      "options": {
       "widgetType": "dropdown",
       "autoCreated": null,
       "choices": [
        "dev",
        "test",
        "prod"
       ]
      }
     }
    }
   }
  },
  "language_info": {
   "name": "python"
  }
 },
 "nbformat": 4,
 "nbformat_minor": 0
}
